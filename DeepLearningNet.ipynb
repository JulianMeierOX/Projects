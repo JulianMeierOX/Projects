{
 "cells": [
  {
   "cell_type": "code",
   "execution_count": 1,
   "metadata": {},
   "outputs": [
    {
     "name": "stderr",
     "output_type": "stream",
     "text": [
      "/Applications/anaconda/lib/python3.5/site-packages/h5py/__init__.py:36: FutureWarning: Conversion of the second argument of issubdtype from `float` to `np.floating` is deprecated. In future, it will be treated as `np.float64 == np.dtype(float).type`.\n",
      "  from ._conv import register_converters as _register_converters\n",
      "Using TensorFlow backend.\n"
     ]
    }
   ],
   "source": [
    "import numpy as np\n",
    "import keras\n",
    "from keras.models import Sequential\n",
    "from keras.layers import Dense\n",
    "from keras.utils import to_categorical\n",
    "from keras.optimizers import SGD\n",
    "from keras_lr_multiplier import LRMultiplier\n",
    "import keras.optimizers as opt\n",
    "from keras.utils import plot_model"
   ]
  },
  {
   "cell_type": "code",
   "execution_count": 2,
   "metadata": {},
   "outputs": [
    {
     "name": "stdout",
     "output_type": "stream",
     "text": [
      "{'hidden1': 1, 'hidden2': 500} 0 [<tf.Variable 'SGD/iterations:0' shape=() dtype=int64_ref>, <tf.Variable 'training/LRMultiplier/Group_0/Variable:0' shape=(784, 500) dtype=float32_ref>, <tf.Variable 'training/LRMultiplier/Group_0/Variable_1:0' shape=(500,) dtype=float32_ref>, <tf.Variable 'training/LRMultiplier/Group_0/Variable_2:0' shape=(500, 10) dtype=float32_ref>, <tf.Variable 'training/LRMultiplier/Group_0/Variable_3:0' shape=(10,) dtype=float32_ref>]\n",
      "{'hidden1': 1, 'hidden2': 500} 1 [<tf.Variable 'SGD/iterations:0' shape=() dtype=int64_ref>, <tf.Variable 'training/LRMultiplier/Group_1/Variable:0' shape=(500, 500) dtype=float32_ref>, <tf.Variable 'training/LRMultiplier/Group_1/Variable_1:0' shape=(500,) dtype=float32_ref>]\n",
      "Epoch 1/2\n",
      "60000/60000 [==============================] - 73s 1ms/step - loss: 0.0900 - acc: 0.1115\n",
      "Epoch 2/2\n",
      "60000/60000 [==============================] - 73s 1ms/step - loss: 0.0900 - acc: 0.1124\n"
     ]
    },
    {
     "data": {
      "text/plain": [
       "<keras.callbacks.History at 0x11a8fc668>"
      ]
     },
     "execution_count": 2,
     "metadata": {},
     "output_type": "execute_result"
    }
   ],
   "source": [
    "import keras.backend as K\n",
    "from keras.datasets import mnist\n",
    "from tensorflow.python import debug as tf_debug\n",
    "\n",
    "(x_train, y_train), (x_test, y_test) = mnist.load_data()\n",
    "\n",
    "\n",
    "train_images = x_train\n",
    "train_labels = y_train\n",
    "test_images = x_test\n",
    "test_labels = y_test\n",
    "\n",
    "# Normalize the images.\n",
    "train_images = (train_images / 255) - 0.5\n",
    "test_images = (test_images / 255) - 0.5\n",
    "\n",
    "# Flatten the images.\n",
    "train_images = train_images.reshape((-1, 784))\n",
    "test_images = test_images.reshape((-1, 784))\n",
    "\n",
    "# Build the model.\n",
    "model = Sequential([\n",
    "  Dense(500, activation='sigmoid', input_shape=(784,), name = 'hidden1'),\n",
    "  keras.layers.Lambda(lambda x: x * 1/500),\n",
    "  Dense(500, activation='sigmoid', name = 'hidden2'),\n",
    "  keras.layers.Lambda(lambda x: x * 1/500),  \n",
    "  Dense(10, activation='softmax')\n",
    "])\n",
    "\n",
    "# Compile the model.\n",
    "\n",
    "\n",
    "fixedLR = opt.SGD(lr=1 , decay = 0)\n",
    "\n",
    "\n",
    "model.compile(\n",
    "  optimizer= LRMultiplier(fixedLR, multipliers = {'hidden1' : 1, 'hidden2' : 500}),\n",
    "  loss='mean_squared_error',\n",
    "  metrics=['accuracy'],\n",
    ")\n",
    "\n",
    "# Train the model.\n",
    "model.fit(\n",
    "    train_images,\n",
    "    to_categorical(train_labels),\n",
    "    epochs=2,\n",
    "    batch_size=32,\n",
    ")"
   ]
  },
  {
   "cell_type": "code",
   "execution_count": 3,
   "metadata": {},
   "outputs": [
    {
     "name": "stdout",
     "output_type": "stream",
     "text": [
      "10000/10000 [==============================] - 4s 449us/step\n"
     ]
    },
    {
     "data": {
      "text/plain": [
       "[0.0899908742427826, 0.1135]"
      ]
     },
     "execution_count": 3,
     "metadata": {},
     "output_type": "execute_result"
    }
   ],
   "source": [
    "model.evaluate(\n",
    "  test_images,\n",
    "  to_categorical(test_labels)\n",
    ")"
   ]
  }
 ],
 "metadata": {
  "kernelspec": {
   "display_name": "Python [conda env:anaconda]",
   "language": "python",
   "name": "conda-env-anaconda-py"
  },
  "language_info": {
   "codemirror_mode": {
    "name": "ipython",
    "version": 3
   },
   "file_extension": ".py",
   "mimetype": "text/x-python",
   "name": "python",
   "nbconvert_exporter": "python",
   "pygments_lexer": "ipython3",
   "version": "3.5.5"
  }
 },
 "nbformat": 4,
 "nbformat_minor": 2
}
